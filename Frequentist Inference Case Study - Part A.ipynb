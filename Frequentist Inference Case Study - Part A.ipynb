{
 "cells": [
  {
   "cell_type": "markdown",
   "metadata": {},
   "source": [
    "# Frequentist Inference Case Study - Part A "
   ]
  },
  {
   "cell_type": "markdown",
   "metadata": {},
   "source": [
    "## 1. Learning objectives"
   ]
  },
  {
   "cell_type": "markdown",
   "metadata": {},
   "source": [
    "Welcome to part A of the Frequentist inference case study! The purpose of this case study is to help you apply the concepts associated with Frequentist inference in Python. Frequentist inference is the process of deriving conclusions about an underlying distribution via the observation of data. In particular, you'll practice writing Python code to apply the following statistical concepts: \n",
    "* the _z_-statistic\n",
    "* the _t_-statistic\n",
    "* the difference and relationship between the two\n",
    "* the Central Limit Theorem, including its assumptions and consequences\n",
    "* how to estimate the population mean and standard deviation from a sample\n",
    "* the concept of a sampling distribution of a test statistic, particularly for the mean\n",
    "* how to combine these concepts to calculate a confidence interval"
   ]
  },
  {
   "cell_type": "markdown",
   "metadata": {},
   "source": [
    "## Prerequisites"
   ]
  },
  {
   "cell_type": "markdown",
   "metadata": {},
   "source": [
    "To be able to complete this notebook, you are expected to have a basic understanding of:\n",
    "* what a random variable is (p.400 of Professor Spiegelhalter's *The Art of Statistics, hereinafter AoS*)\n",
    "* what a population, and a population distribution, are (p. 397 of *AoS*)\n",
    "* a high-level sense of what the normal distribution is (p. 394 of *AoS*)\n",
    "* what the t-statistic is (p. 275 of *AoS*)\n",
    "\n",
    "Happily, these should all be concepts with which you are reasonably familiar after having read ten chapters of Professor Spiegelhalter's book, *The Art of Statistics*.\n",
    "\n",
    "We'll try to relate the concepts in this case study back to page numbers in *The Art of Statistics* so that you can focus on the Python aspects of this case study. The second part (part B) of this case study will involve another, more real-world application of these tools. "
   ]
  },
  {
   "cell_type": "markdown",
   "metadata": {},
   "source": [
    "For this notebook, we will use data sampled from a known normal distribution. This allows us to compare our results with theoretical expectations."
   ]
  },
  {
   "cell_type": "markdown",
   "metadata": {},
   "source": [
    "## 2. An introduction to sampling from the normal distribution"
   ]
  },
  {
   "cell_type": "markdown",
   "metadata": {},
   "source": [
    "First, let's explore the ways we can generate the normal distribution. While there's a fair amount of interest in [sklearn](https://scikit-learn.org/stable/) within the machine learning community, you're likely to have heard of [scipy](https://docs.scipy.org/doc/scipy-0.15.1/reference/index.html) if you're coming from the sciences. For this assignment, you'll use [scipy.stats](https://docs.scipy.org/doc/scipy-0.15.1/reference/tutorial/stats.html) to complete your work. \n",
    "\n",
    "This assignment will require some digging around and getting your hands dirty (your learning is maximized that way)! You should have the research skills and the tenacity to do these tasks independently, but if you struggle, reach out to your immediate community and your mentor for help. "
   ]
  },
  {
   "cell_type": "code",
   "execution_count": 2,
   "metadata": {},
   "outputs": [],
   "source": [
    "from scipy.stats import norm\n",
    "from scipy.stats import t\n",
    "import numpy as np\n",
    "import pandas as pd\n",
    "from numpy.random import seed\n",
    "import matplotlib.pyplot as plt"
   ]
  },
  {
   "cell_type": "markdown",
   "metadata": {},
   "source": [
    "__Q1:__ Call up the documentation for the `norm` function imported above. (Hint: that documentation is [here](https://docs.scipy.org/doc/scipy/reference/generated/scipy.stats.norm.html)). What is the second listed method?"
   ]
  },
  {
   "cell_type": "markdown",
   "metadata": {},
   "source": [
    "__A:__ #Probability density function.\n",
    "pdf(x, loc=0, scale=1)"
   ]
  },
  {
   "cell_type": "markdown",
   "metadata": {},
   "source": [
    "__Q2:__ Use the method that generates random variates to draw five samples from the standard normal distribution. "
   ]
  },
  {
   "cell_type": "markdown",
   "metadata": {},
   "source": [
    "__A:__"
   ]
  },
  {
   "cell_type": "code",
   "execution_count": 11,
   "metadata": {},
   "outputs": [],
   "source": [
    "seed(47)\n",
    "# draw five samples here\n",
    "sample_5 = norm.rvs(loc=0, scale=1, size=5, random_state=None)"
   ]
  },
  {
   "cell_type": "code",
   "execution_count": 12,
   "metadata": {},
   "outputs": [
    {
     "data": {
      "text/plain": [
       "array([-0.84800948,  1.30590636,  0.92420797,  0.6404118 , -1.05473698])"
      ]
     },
     "execution_count": 12,
     "metadata": {},
     "output_type": "execute_result"
    }
   ],
   "source": [
    "sample_5"
   ]
  },
  {
   "cell_type": "markdown",
   "metadata": {},
   "source": [
    "__Q3:__ What is the mean of this sample? Is it exactly equal to the value you expected? Hint: the sample was drawn from the standard normal distribution. If you want a reminder of the properties of this distribution, check out p. 85 of *AoS*. "
   ]
  },
  {
   "cell_type": "markdown",
   "metadata": {},
   "source": [
    "__A:__"
   ]
  },
  {
   "cell_type": "code",
   "execution_count": 8,
   "metadata": {},
   "outputs": [
    {
     "name": "stdout",
     "output_type": "stream",
     "text": [
      "0.19355593334131074\n"
     ]
    }
   ],
   "source": [
    "# Calculate and print the mean here, hint: use np.mean()\n",
    "sample_mean = np.mean(sample_5)\n",
    "print(sample_mean)"
   ]
  },
  {
   "cell_type": "markdown",
   "metadata": {},
   "source": [
    "__Q4:__ What is the standard deviation of these numbers? Calculate this manually here as $\\sqrt{\\frac{\\sum_i(x_i - \\bar{x})^2}{n}}$ (This is just the definition of **standard deviation** given by Professor Spiegelhalter on p.403 of *AoS*). Hint: np.sqrt() and np.sum() will be useful here and remember that numPy supports [broadcasting](https://docs.scipy.org/doc/numpy/user/basics.broadcasting.html)."
   ]
  },
  {
   "cell_type": "markdown",
   "metadata": {},
   "source": [
    "__A:__"
   ]
  },
  {
   "cell_type": "code",
   "execution_count": 24,
   "metadata": {},
   "outputs": [
    {
     "data": {
      "text/plain": [
       "np.float64(0.9606195639478641)"
      ]
     },
     "execution_count": 24,
     "metadata": {},
     "output_type": "execute_result"
    }
   ],
   "source": [
    "# Calculate the squared differences from the mean\n",
    "sample_squared_differences = [(x - sample_mean) ** 2 for x in sample_5]\n",
    "\n",
    "sample_avaerage_variance = np.sum(sample_squared_differences) / len(sample_5)\n",
    " \n",
    "#Calculate the standard deviation (square root of variance)\n",
    "sample_standard_deviation = np.sqrt(sample_avaerage_variance)\n",
    "\n",
    "sample_standard_deviation"
   ]
  },
  {
   "cell_type": "markdown",
   "metadata": {},
   "source": [
    "Here we have calculated the actual standard deviation of a small data set (of size 5). But in this case, this small data set is actually a sample from our larger (infinite) population. In this case, the population is infinite because we could keep drawing our normal random variates until our computers die! \n",
    "\n",
    "In general, the sample mean we calculate will not be equal to the population mean (as we saw above). A consequence of this is that the sum of squares of the deviations from the _population_ mean will be bigger than the sum of squares of the deviations from the _sample_ mean. In other words, the sum of squares of the deviations from the _sample_ mean is too small to give an unbiased estimate of the _population_ variance. An example of this effect is given [here](https://en.wikipedia.org/wiki/Bessel%27s_correction#Source_of_bias). Scaling our estimate of the variance by the factor $n/(n-1)$ gives an unbiased estimator of the population variance. This factor is known as [Bessel's correction](https://en.wikipedia.org/wiki/Bessel%27s_correction). The consequence of this is that the $n$ in the denominator is replaced by $n-1$.\n",
    "\n",
    "You can see Bessel's correction reflected in Professor Spiegelhalter's definition of **variance** on p. 405 of *AoS*.\n",
    "\n",
    "__Q5:__ If all we had to go on was our five samples, what would be our best estimate of the population standard deviation? Use Bessel's correction ($n-1$ in the denominator), thus $\\sqrt{\\frac{\\sum_i(x_i - \\bar{x})^2}{n-1}}$."
   ]
  },
  {
   "cell_type": "markdown",
   "metadata": {},
   "source": [
    "__A:__"
   ]
  },
  {
   "cell_type": "code",
   "execution_count": 25,
   "metadata": {},
   "outputs": [
    {
     "data": {
      "text/plain": [
       "np.float64(1.0740053227518152)"
      ]
     },
     "execution_count": 25,
     "metadata": {},
     "output_type": "execute_result"
    }
   ],
   "source": [
    "# Calculate the squared differences from the mean\n",
    "sample_bessel_squared_differences = [(x - sample_mean) ** 2 for x in sample_5]\n",
    "\n",
    "sample_bessel_avaerage_variance = np.sum(sample_bessel_squared_differences) / (len(sample_5)  -1)\n",
    " \n",
    "#Calculate the standard deviation (square root of variance)\n",
    "sample_bessel_standard_deviation = np.sqrt(sample_bessel_avaerage_variance)\n",
    "\n",
    "sample_bessel_standard_deviation"
   ]
  },
  {
   "cell_type": "markdown",
   "metadata": {},
   "source": [
    "__Q6:__ Now use numpy's std function to calculate the standard deviation of our random samples. Which of the above standard deviations did it return?"
   ]
  },
  {
   "cell_type": "markdown",
   "metadata": {},
   "source": [
    "__A:__"
   ]
  },
  {
   "cell_type": "code",
   "execution_count": 30,
   "metadata": {},
   "outputs": [
    {
     "name": "stdout",
     "output_type": "stream",
     "text": [
      "0.9606195639478641\n"
     ]
    }
   ],
   "source": [
    "sample_std  = np.std(sample_5)\n",
    "\n",
    "print(sample_std)"
   ]
  },
  {
   "cell_type": "markdown",
   "metadata": {},
   "source": [
    "__Q7:__ Consult the documentation for np.std() to see how to apply the correction for estimating the population parameter and verify this produces the expected result."
   ]
  },
  {
   "cell_type": "markdown",
   "metadata": {},
   "source": [
    "__A:__"
   ]
  },
  {
   "cell_type": "code",
   "execution_count": 33,
   "metadata": {},
   "outputs": [],
   "source": [
    "sample_std_correction  = np.std(sample_5, ddof =1)"
   ]
  },
  {
   "cell_type": "code",
   "execution_count": 32,
   "metadata": {},
   "outputs": [
    {
     "name": "stdout",
     "output_type": "stream",
     "text": [
      "1.0740053227518152\n"
     ]
    }
   ],
   "source": [
    "print(sample_std_correction)"
   ]
  },
  {
   "cell_type": "markdown",
   "metadata": {},
   "source": [
    "### Summary of section"
   ]
  },
  {
   "cell_type": "markdown",
   "metadata": {},
   "source": [
    "In this section, you've been introduced to the scipy.stats package and used it to draw a small sample from the standard normal distribution. You've calculated the average (the mean) of this sample and seen that this is not exactly equal to the expected population parameter (which we know because we're generating the random variates from a specific, known distribution). You've been introduced to two ways of calculating the standard deviation; one uses $n$ in the denominator and the other uses $n-1$ (Bessel's correction). You've also seen which of these calculations np.std() performs by default and how to get it to generate the other."
   ]
  },
  {
   "cell_type": "markdown",
   "metadata": {},
   "source": [
    "You use $n$ as the denominator if you want to calculate the standard deviation of a sequence of numbers. You use $n-1$ if you are using this sequence of numbers to estimate the population parameter. This brings us to some terminology that can be a little confusing.\n",
    "\n",
    "The population parameter is traditionally written as $\\sigma$ and the sample statistic as $s$. Rather unhelpfully, $s$ is also called the sample standard deviation (using $n-1$) whereas the standard deviation of the sample uses $n$. That's right, we have the sample standard deviation and the standard deviation of the sample and they're not the same thing!\n",
    "\n",
    "The sample standard deviation\n",
    "\\begin{equation}\n",
    "s = \\sqrt{\\frac{\\sum_i(x_i - \\bar{x})^2}{n-1}} \\approx \\sigma,\n",
    "\\end{equation}\n",
    "is our best (unbiased) estimate of the population parameter ($\\sigma$).\n",
    "\n",
    "If your dataset _is_ your entire population, you simply want to calculate the population parameter, $\\sigma$, via\n",
    "\\begin{equation}\n",
    "\\sigma = \\sqrt{\\frac{\\sum_i(x_i - \\bar{x})^2}{n}}\n",
    "\\end{equation}\n",
    "as you have complete, full knowledge of your population. In other words, your sample _is_ your population. It's worth noting that we're dealing with what Professor Spiegehalter describes on p. 92 of *AoS* as a **metaphorical population**: we have all the data, and we act as if the data-point is taken from a population at random. We can think of this population as an imaginary space of possibilities. \n",
    "\n",
    "If, however, you have sampled _from_ your population, you only have partial knowledge of the state of your population. In this case, the standard deviation of your sample is not an unbiased estimate of the standard deviation of the population, in which case you seek to estimate that population parameter via the sample standard deviation, which uses the $n-1$ denominator."
   ]
  },
  {
   "cell_type": "markdown",
   "metadata": {},
   "source": [
    "Great work so far! Now let's dive deeper."
   ]
  },
  {
   "cell_type": "markdown",
   "metadata": {},
   "source": [
    "## 3. Sampling distributions"
   ]
  },
  {
   "cell_type": "markdown",
   "metadata": {},
   "source": [
    "So far we've been dealing with the concept of taking a sample from a population to infer the population parameters. One statistic we calculated for a sample was the mean. As our samples will be expected to vary from one draw to another, so will our sample statistics. If we were to perform repeat draws of size $n$ and calculate the mean of each, we would expect to obtain a distribution of values. This is the sampling distribution of the mean. **The Central Limit Theorem (CLT)** tells us that such a distribution will approach a normal distribution as $n$ increases (the intuitions behind the CLT are covered in full on p. 236 of *AoS*). For the sampling distribution of the mean, the standard deviation of this distribution is given by\n",
    "\n",
    "\\begin{equation}\n",
    "\\sigma_{mean} = \\frac{\\sigma}{\\sqrt n}\n",
    "\\end{equation}\n",
    "\n",
    "where $\\sigma_{mean}$ is the standard deviation of the sampling distribution of the mean and $\\sigma$ is the standard deviation of the population (the population parameter)."
   ]
  },
  {
   "cell_type": "markdown",
   "metadata": {},
   "source": [
    "This is important because typically we are dealing with samples from populations and all we know about the population is what we see in the sample. From this sample, we want to make inferences about the population. We may do this, for example, by looking at the histogram of the values and by calculating the mean and standard deviation (as estimates of the population parameters), and so we are intrinsically interested in how these quantities vary across samples. \n",
    "\n",
    "In other words, now that we've taken one sample of size $n$ and made some claims about the general population, what if we were to take another sample of size $n$? Would we get the same result? Would we make the same claims about the general population? This brings us to a fundamental question: _when we make some inference about a population based on our sample, how confident can we be that we've got it 'right'?_\n",
    "\n",
    "We need to think about **estimates and confidence intervals**: those concepts covered in Chapter 7, p. 189, of *AoS*."
   ]
  },
  {
   "cell_type": "markdown",
   "metadata": {},
   "source": [
    "Now, the standard normal distribution (with its variance equal to its standard deviation of one) would not be a great illustration of a key point. Instead, let's imagine we live in a town of 50,000 people and we know the height of everyone in this town. We will have 50,000 numbers that tell us everything about our population. We'll simulate these numbers now and put ourselves in one particular town, called 'town 47', where the population mean height is 172 cm and population standard deviation is 5 cm."
   ]
  },
  {
   "cell_type": "code",
   "execution_count": 34,
   "metadata": {},
   "outputs": [],
   "source": [
    "seed(47)\n",
    "pop_heights = norm.rvs(172, 5, size=50000)"
   ]
  },
  {
   "cell_type": "code",
   "execution_count": 36,
   "metadata": {},
   "outputs": [
    {
     "data": {
      "text/plain": [
       "50000"
      ]
     },
     "execution_count": 36,
     "metadata": {},
     "output_type": "execute_result"
    }
   ],
   "source": [
    "len(pop_heights)"
   ]
  },
  {
   "cell_type": "code",
   "execution_count": 38,
   "metadata": {},
   "outputs": [
    {
     "data": {
      "image/png": "[encoded data removed]",
      "text/plain": [
       "<Figure size 640x480 with 1 Axes>"
      ]
     },
     "metadata": {},
     "output_type": "display_data"
    }
   ],
   "source": [
    "_ = plt.hist(pop_heights, bins=30)\n",
    "_ = plt.xlabel('height (cm)')\n",
    "_ = plt.ylabel('number of people')\n",
    "_ = plt.title('Distribution of heights in entire town population')\n",
    "_ = plt.axvline(172, color='r')\n",
    "_ = plt.axvline(172+5, color='r', linestyle='--')\n",
    "_ = plt.axvline(172-5, color='r', linestyle='--')\n",
    "_ = plt.axvline(172+10, color='r', linestyle='-.')\n",
    "_ = plt.axvline(172-10, color='r', linestyle='-.')"
   ]
  },
  {
   "cell_type": "markdown",
   "metadata": {},
   "source": [
    "Now, 50,000 people is rather a lot to chase after with a tape measure. If all you want to know is the average height of the townsfolk, then can you just go out and measure a sample to get a pretty good estimate of the average height?"
   ]
  },
  {
   "cell_type": "code",
   "execution_count": 39,
   "metadata": {},
   "outputs": [],
   "source": [
    "def townsfolk_sampler(n):\n",
    "    return np.random.choice(pop_heights, n)"
   ]
  },
  {
   "cell_type": "markdown",
   "metadata": {},
   "source": [
    "Let's say you go out one day and randomly sample 10 people to measure."
   ]
  },
  {
   "cell_type": "code",
   "execution_count": 40,
   "metadata": {},
   "outputs": [],
   "source": [
    "seed(47)\n",
    "daily_sample1 = townsfolk_sampler(10)"
   ]
  },
  {
   "cell_type": "code",
   "execution_count": 42,
   "metadata": {},
   "outputs": [
    {
     "data": {
      "image/png": "[encoded data removed]",
      "text/plain": [
       "<Figure size 640x480 with 1 Axes>"
      ]
     },
     "metadata": {},
     "output_type": "display_data"
    }
   ],
   "source": [
    "_ = plt.hist(daily_sample1, bins=10)\n",
    "_ = plt.xlabel('height (cm)')\n",
    "_ = plt.ylabel('number of people')\n",
    "_ = plt.title('Distribution of heights in sample size 10')"
   ]
  },
  {
   "cell_type": "markdown",
   "metadata": {},
   "source": [
    "The sample distribution doesn't resemble what we take the population distribution to be. What do we get for the mean?"
   ]
  },
  {
   "cell_type": "code",
   "execution_count": 43,
   "metadata": {},
   "outputs": [
    {
     "data": {
      "text/plain": [
       "np.float64(173.47911444163503)"
      ]
     },
     "execution_count": 43,
     "metadata": {},
     "output_type": "execute_result"
    }
   ],
   "source": [
    "np.mean(daily_sample1)"
   ]
  },
  {
   "cell_type": "markdown",
   "metadata": {},
   "source": [
    "And if we went out and repeated this experiment?"
   ]
  },
  {
   "cell_type": "code",
   "execution_count": 44,
   "metadata": {},
   "outputs": [],
   "source": [
    "daily_sample2 = townsfolk_sampler(10)"
   ]
  },
  {
   "cell_type": "code",
   "execution_count": 45,
   "metadata": {},
   "outputs": [
    {
     "data": {
      "text/plain": [
       "np.float64(173.7317666636263)"
      ]
     },
     "execution_count": 45,
     "metadata": {},
     "output_type": "execute_result"
    }
   ],
   "source": [
    "np.mean(daily_sample2)"
   ]
  },
  {
   "cell_type": "markdown",
   "metadata": {},
   "source": [
    "__Q8:__ Simulate performing this random trial every day for a year, calculating the mean of each daily sample of 10, and plot the resultant sampling distribution of the mean."
   ]
  },
  {
   "cell_type": "markdown",
   "metadata": {},
   "source": [
    "__A:__"
   ]
  },
  {
   "cell_type": "code",
   "execution_count": 46,
   "metadata": {},
   "outputs": [],
   "source": [
    "seed(47)\n",
    "# take your samples here\n",
    "daily_means = []\n",
    "for _ in range(365):\n",
    "    daily_sample = townsfolk_sampler(10)\n",
    "    daily_means.append(np.mean(daily_sample))"
   ]
  },
  {
   "cell_type": "code",
   "execution_count": 48,
   "metadata": {},
   "outputs": [
    {
     "data": {
      "text/plain": [
       "[np.float64(173.47911444163503),\n",
       " np.float64(173.7317666636263),\n",
       " np.float64(172.54893867276104),\n",
       " np.float64(171.43257319553967),\n",
       " np.float64(172.7151613148319),\n",
       " np.float64(172.82799509412092),\n",
       " np.float64(172.72104620090087),\n",
       " np.float64(171.35684251559897),\n",
       " np.float64(172.06082915612325),\n",
       " np.float64(175.02116165843373),\n",
       " np.float64(172.87297442836729),\n",
       " np.float64(173.10695709894807),\n",
       " np.float64(174.28251319331625),\n",
       " np.float64(172.16799412617846),\n",
       " np.float64(172.2677166306168),\n",
       " np.float64(174.1148759511088),\n",
       " np.float64(173.76989560652873),\n",
       " np.float64(173.53587661697912),\n",
       " np.float64(171.73109636549412),\n",
       " np.float64(173.6192933521118),\n",
       " np.float64(171.4122703231149),\n",
       " np.float64(169.8912622859572),\n",
       " np.float64(171.50855064552047),\n",
       " np.float64(170.79777102526515),\n",
       " np.float64(172.13293591535268),\n",
       " np.float64(174.04237966386012),\n",
       " np.float64(171.41699712312),\n",
       " np.float64(169.68751210980005),\n",
       " np.float64(170.70138979236123),\n",
       " np.float64(170.50288822335273),\n",
       " np.float64(171.1227335807866),\n",
       " np.float64(172.18184913764566),\n",
       " np.float64(172.68945746436543),\n",
       " np.float64(171.0001004904461),\n",
       " np.float64(170.89451146667253),\n",
       " np.float64(171.09020297014567),\n",
       " np.float64(171.25533609966612),\n",
       " np.float64(172.10797845540236),\n",
       " np.float64(171.08827013545948),\n",
       " np.float64(172.6513531230999),\n",
       " np.float64(175.070689805427),\n",
       " np.float64(169.97597644140453),\n",
       " np.float64(172.2797674841427),\n",
       " np.float64(169.68001261485807),\n",
       " np.float64(172.80409332096238),\n",
       " np.float64(172.55229420480956),\n",
       " np.float64(173.83054118621465),\n",
       " np.float64(173.37568836233626),\n",
       " np.float64(171.89359355779794),\n",
       " np.float64(171.6665742212276),\n",
       " np.float64(169.9004743876151),\n",
       " np.float64(172.72984382291025),\n",
       " np.float64(169.46043079819069),\n",
       " np.float64(171.9066883458138),\n",
       " np.float64(174.31024504533102),\n",
       " np.float64(172.9549236584936),\n",
       " np.float64(170.26013472404284),\n",
       " np.float64(171.62782407697222),\n",
       " np.float64(171.93287814147618),\n",
       " np.float64(172.67107823125573),\n",
       " np.float64(173.35560534761376),\n",
       " np.float64(171.5928923513852),\n",
       " np.float64(174.01996330433786),\n",
       " np.float64(168.70526103039566),\n",
       " np.float64(174.4291544932485),\n",
       " np.float64(172.99782989083792),\n",
       " np.float64(169.85679627411287),\n",
       " np.float64(170.51072224889845),\n",
       " np.float64(169.90321605710665),\n",
       " np.float64(170.15223960286718),\n",
       " np.float64(171.69847097209998),\n",
       " np.float64(172.1247564115574),\n",
       " np.float64(170.7393421379653),\n",
       " np.float64(169.418394777909),\n",
       " np.float64(172.90126387627427),\n",
       " np.float64(173.349965975603),\n",
       " np.float64(172.31408857482649),\n",
       " np.float64(170.95008031433505),\n",
       " np.float64(168.6026063397666),\n",
       " np.float64(169.23740477644245),\n",
       " np.float64(168.98395307845203),\n",
       " np.float64(170.24977041291908),\n",
       " np.float64(172.28866881866844),\n",
       " np.float64(169.4954901013438),\n",
       " np.float64(172.14048141305437),\n",
       " np.float64(170.63029872192917),\n",
       " np.float64(170.81450578452282),\n",
       " np.float64(172.7564010423859),\n",
       " np.float64(172.270704952318),\n",
       " np.float64(172.75102003444198),\n",
       " np.float64(170.29337424391514),\n",
       " np.float64(171.37511929823515),\n",
       " np.float64(171.19824057530133),\n",
       " np.float64(175.6782843800554),\n",
       " np.float64(169.98345772406594),\n",
       " np.float64(171.97617797193666),\n",
       " np.float64(170.56013527190584),\n",
       " np.float64(171.50909868435141),\n",
       " np.float64(172.75712339394886),\n",
       " np.float64(173.2095114832777),\n",
       " np.float64(172.10653392996448),\n",
       " np.float64(173.14812711662768),\n",
       " np.float64(170.10688635551668),\n",
       " np.float64(173.3757843013828),\n",
       " np.float64(172.1393269463663),\n",
       " np.float64(169.68126101129226),\n",
       " np.float64(173.51940617466894),\n",
       " np.float64(170.64933192553676),\n",
       " np.float64(172.9302606791998),\n",
       " np.float64(171.55990939669806),\n",
       " np.float64(171.92304718402258),\n",
       " np.float64(173.64455234145223),\n",
       " np.float64(171.97230993627605),\n",
       " np.float64(171.4139294230426),\n",
       " np.float64(173.09648158348617),\n",
       " np.float64(171.59077758086715),\n",
       " np.float64(172.02580024296842),\n",
       " np.float64(172.21608501143896),\n",
       " np.float64(172.0071934611132),\n",
       " np.float64(172.33599701625351),\n",
       " np.float64(171.028648188148),\n",
       " np.float64(173.3730965923039),\n",
       " np.float64(171.63339660555894),\n",
       " np.float64(172.24280703841163),\n",
       " np.float64(170.96259686809128),\n",
       " np.float64(175.03094575416975),\n",
       " np.float64(173.6428041806974),\n",
       " np.float64(172.95723098557428),\n",
       " np.float64(171.9821148360482),\n",
       " np.float64(172.86230119411863),\n",
       " np.float64(173.2818959291762),\n",
       " np.float64(170.74391386736906),\n",
       " np.float64(171.85618466569377),\n",
       " np.float64(174.516404929308),\n",
       " np.float64(171.9757816604739),\n",
       " np.float64(172.8532356879273),\n",
       " np.float64(170.8863347896039),\n",
       " np.float64(172.02699101055003),\n",
       " np.float64(171.00702877519421),\n",
       " np.float64(174.4668408638607),\n",
       " np.float64(167.8482928708372),\n",
       " np.float64(170.87326329719744),\n",
       " np.float64(172.24076331599596),\n",
       " np.float64(174.06036645523105),\n",
       " np.float64(173.65199868699432),\n",
       " np.float64(171.31020238919996),\n",
       " np.float64(172.8757717751434),\n",
       " np.float64(169.00973760863025),\n",
       " np.float64(169.36066339463133),\n",
       " np.float64(172.8394581127686),\n",
       " np.float64(173.2849490876725),\n",
       " np.float64(167.94708299375463),\n",
       " np.float64(171.4944813760528),\n",
       " np.float64(173.26676195725375),\n",
       " np.float64(174.36603867262343),\n",
       " np.float64(169.3835107781193),\n",
       " np.float64(170.81702577580646),\n",
       " np.float64(172.65881074097973),\n",
       " np.float64(170.5043935231086),\n",
       " np.float64(174.48530539837125),\n",
       " np.float64(169.28374480528095),\n",
       " np.float64(173.11587199242774),\n",
       " np.float64(169.48869927808207),\n",
       " np.float64(174.05802462897157),\n",
       " np.float64(170.41037396562533),\n",
       " np.float64(170.3850832762101),\n",
       " np.float64(171.14614333175618),\n",
       " np.float64(171.28870072653964),\n",
       " np.float64(172.76671420430083),\n",
       " np.float64(169.95471759650735),\n",
       " np.float64(172.86382182013728),\n",
       " np.float64(172.6225511373559),\n",
       " np.float64(172.33656268781826),\n",
       " np.float64(168.62332166556928),\n",
       " np.float64(172.7111357521249),\n",
       " np.float64(171.82186352481727),\n",
       " np.float64(173.28085693950445),\n",
       " np.float64(169.06595378147523),\n",
       " np.float64(174.0801392411933),\n",
       " np.float64(174.9773349255948),\n",
       " np.float64(171.28213572811805),\n",
       " np.float64(171.6730813592417),\n",
       " np.float64(169.45634682144438),\n",
       " np.float64(173.43393215657332),\n",
       " np.float64(170.86374559269453),\n",
       " np.float64(173.21556904620837),\n",
       " np.float64(169.1862678724352),\n",
       " np.float64(171.20026812399502),\n",
       " np.float64(171.47106714440469),\n",
       " np.float64(173.32428817479482),\n",
       " np.float64(171.2691694937409),\n",
       " np.float64(169.74157082970493),\n",
       " np.float64(172.91823143229223),\n",
       " np.float64(171.78081907440483),\n",
       " np.float64(170.11860847293156),\n",
       " np.float64(171.87026079537708),\n",
       " np.float64(170.74069830935466),\n",
       " np.float64(172.46488874903895),\n",
       " np.float64(172.98225023418647),\n",
       " np.float64(174.46081103471732),\n",
       " np.float64(173.49400936370455),\n",
       " np.float64(169.51557464300683),\n",
       " np.float64(171.73063129611373),\n",
       " np.float64(170.7169353336031),\n",
       " np.float64(174.6602048576773),\n",
       " np.float64(172.3849780185491),\n",
       " np.float64(172.79482744498335),\n",
       " np.float64(172.66798523120897),\n",
       " np.float64(173.03683236655385),\n",
       " np.float64(169.03388574785288),\n",
       " np.float64(170.27625725905142),\n",
       " np.float64(171.6548397802826),\n",
       " np.float64(173.9110065626827),\n",
       " np.float64(172.36666043469813),\n",
       " np.float64(173.0806786048489),\n",
       " np.float64(170.5454321114398),\n",
       " np.float64(171.63218644552478),\n",
       " np.float64(173.75734815005714),\n",
       " np.float64(173.4663602192376),\n",
       " np.float64(173.93185477413437),\n",
       " np.float64(172.21851080918435),\n",
       " np.float64(174.99259084185877),\n",
       " np.float64(172.79446184726748),\n",
       " np.float64(171.51052052455086),\n",
       " np.float64(173.24255009028505),\n",
       " np.float64(171.8830523292385),\n",
       " np.float64(172.78335534863947),\n",
       " np.float64(171.91694787219325),\n",
       " np.float64(170.12924519370299),\n",
       " np.float64(171.6125036310404),\n",
       " np.float64(172.90245069941636),\n",
       " np.float64(173.09703321285585),\n",
       " np.float64(172.13187273881533),\n",
       " np.float64(173.1671394346884),\n",
       " np.float64(170.08389854480225),\n",
       " np.float64(173.93739863468136),\n",
       " np.float64(171.3831801935383),\n",
       " np.float64(173.0648792145468),\n",
       " np.float64(171.67286845324548),\n",
       " np.float64(172.74454332610662),\n",
       " np.float64(170.29325491672353),\n",
       " np.float64(168.50440626366915),\n",
       " np.float64(172.52943025832766),\n",
       " np.float64(168.22985199166658),\n",
       " np.float64(173.63375684095035),\n",
       " np.float64(173.8223904901435),\n",
       " np.float64(170.64928888578683),\n",
       " np.float64(171.7803289727296),\n",
       " np.float64(169.31058690937567),\n",
       " np.float64(170.90044256609488),\n",
       " np.float64(172.67827045507593),\n",
       " np.float64(172.0422309421312),\n",
       " np.float64(173.17659183674408),\n",
       " np.float64(169.49895501607463),\n",
       " np.float64(172.8853684043484),\n",
       " np.float64(173.3982671958468),\n",
       " np.float64(169.6718344723641),\n",
       " np.float64(169.3434812632541),\n",
       " np.float64(175.1631703883851),\n",
       " np.float64(170.59481340389107),\n",
       " np.float64(170.58426243494063),\n",
       " np.float64(172.72334025117496),\n",
       " np.float64(172.1307888143033),\n",
       " np.float64(169.01609630447473),\n",
       " np.float64(171.15681558897592),\n",
       " np.float64(174.684931280434),\n",
       " np.float64(169.29446475103575),\n",
       " np.float64(171.65686646102714),\n",
       " np.float64(173.8172097345154),\n",
       " np.float64(170.72391555094927),\n",
       " np.float64(170.5159267446483),\n",
       " np.float64(174.0926258645925),\n",
       " np.float64(168.74354262686796),\n",
       " np.float64(171.60449755276952),\n",
       " np.float64(173.35249290348906),\n",
       " np.float64(169.59524622005407),\n",
       " np.float64(172.31825115793964),\n",
       " np.float64(173.43051530494725),\n",
       " np.float64(175.97945459508188),\n",
       " np.float64(172.41542957870462),\n",
       " np.float64(172.48108913345823),\n",
       " np.float64(175.73235560113446),\n",
       " np.float64(173.30917671705808),\n",
       " np.float64(170.5016307174128),\n",
       " np.float64(171.47442800822694),\n",
       " np.float64(172.921116303701),\n",
       " np.float64(171.1639042540142),\n",
       " np.float64(173.15958685889186),\n",
       " np.float64(170.6199464194715),\n",
       " np.float64(170.84177739176616),\n",
       " np.float64(171.99038709269252),\n",
       " np.float64(174.23130175705404),\n",
       " np.float64(170.4855060493516),\n",
       " np.float64(172.02085224658146),\n",
       " np.float64(172.08650337240257),\n",
       " np.float64(173.12384811687497),\n",
       " np.float64(170.09817772721084),\n",
       " np.float64(171.4714587067785),\n",
       " np.float64(172.78753151796303),\n",
       " np.float64(172.85937740574727),\n",
       " np.float64(169.39067373385993),\n",
       " np.float64(172.88433436767303),\n",
       " np.float64(172.09661414856313),\n",
       " np.float64(172.27425697400423),\n",
       " np.float64(170.7114548591524),\n",
       " np.float64(172.19296597942235),\n",
       " np.float64(167.52865965907253),\n",
       " np.float64(172.32570464261443),\n",
       " np.float64(172.72742669079858),\n",
       " np.float64(172.5216957174198),\n",
       " np.float64(172.05940736419612),\n",
       " np.float64(168.8771648188222),\n",
       " np.float64(170.44810196307384),\n",
       " np.float64(173.01149455582384),\n",
       " np.float64(172.52292732563117),\n",
       " np.float64(169.7669347411906),\n",
       " np.float64(169.465402331526),\n",
       " np.float64(173.02223016664223),\n",
       " np.float64(170.27061511503928),\n",
       " np.float64(171.18421420659692),\n",
       " np.float64(173.06750477700962),\n",
       " np.float64(173.43258352486112),\n",
       " np.float64(171.82939845035773),\n",
       " np.float64(170.92672944980677),\n",
       " np.float64(169.81785832026858),\n",
       " np.float64(171.92871073981357),\n",
       " np.float64(170.34135388864743),\n",
       " np.float64(169.05442315458353),\n",
       " np.float64(172.84601765466334),\n",
       " np.float64(171.73522189318317),\n",
       " np.float64(169.2123811879794),\n",
       " np.float64(172.29730173923366),\n",
       " np.float64(169.99961438919348),\n",
       " np.float64(170.02830791269838),\n",
       " np.float64(171.75064789746975),\n",
       " np.float64(170.766935167691),\n",
       " np.float64(173.9810026650127),\n",
       " np.float64(169.92358516806348),\n",
       " np.float64(174.53205578998305),\n",
       " np.float64(173.21890262201072),\n",
       " np.float64(174.25370792104414),\n",
       " np.float64(172.91850748641357),\n",
       " np.float64(172.6887688830941),\n",
       " np.float64(172.064319088991),\n",
       " np.float64(169.88770099269323),\n",
       " np.float64(171.46079489790765),\n",
       " np.float64(171.48307828152147),\n",
       " np.float64(172.59879898682084),\n",
       " np.float64(172.37504542447692),\n",
       " np.float64(168.70639919115436),\n",
       " np.float64(172.76066642690037),\n",
       " np.float64(171.6634185490236),\n",
       " np.float64(173.98434386877807),\n",
       " np.float64(171.42827851034042),\n",
       " np.float64(171.77118445785496),\n",
       " np.float64(169.17922506646468),\n",
       " np.float64(173.782895546607),\n",
       " np.float64(170.82035700816542),\n",
       " np.float64(170.98291389030948),\n",
       " np.float64(172.02218170287054),\n",
       " np.float64(173.20080178649226),\n",
       " np.float64(172.85589043208137),\n",
       " np.float64(171.9024897421873),\n",
       " np.float64(170.45743937442882),\n",
       " np.float64(171.64487927395743)]"
      ]
     },
     "execution_count": 48,
     "metadata": {},
     "output_type": "execute_result"
    }
   ],
   "source": [
    "daily_means"
   ]
  },
  {
   "cell_type": "code",
   "execution_count": 51,
   "metadata": {},
   "outputs": [
    {
     "data": {
      "image/png": "[encoded data removed]",
      "text/plain": [
       "<Figure size 640x480 with 1 Axes>"
      ]
     },
     "metadata": {},
     "output_type": "display_data"
    }
   ],
   "source": [
    "import numpy as np\n",
    "import matplotlib.pyplot as plt\n",
    "\n",
    "# Plot the sampling distribution of the mean\n",
    "plt.hist(daily_means, bins=10, color='skyblue', edgecolor='black', density=True)\n",
    "plt.title(\"Sampling Distribution of the Mean\")\n",
    "plt.xlabel(\"Sample Mean\")\n",
    "plt.ylabel(\"Frequency (Density)\")\n",
    "plt.axvline(np.mean(daily_means), color='red', linestyle='dashed', label=f\"Mean: {np.mean(daily_means):.2f}\")\n",
    "plt.legend()\n",
    "plt.show()\n"
   ]
  },
  {
   "cell_type": "markdown",
   "metadata": {},
   "source": [
    "The above is the distribution of the means of samples of size 10 taken from our population. The Central Limit Theorem tells us the expected mean of this distribution will be equal to the population mean, and standard deviation will be $\\sigma / \\sqrt n$, which, in this case, should be approximately 1.58."
   ]
  },
  {
   "cell_type": "markdown",
   "metadata": {},
   "source": [
    "__Q9:__ Verify the above results from the CLT."
   ]
  },
  {
   "cell_type": "markdown",
   "metadata": {},
   "source": [
    "__A:__"
   ]
  },
  {
   "cell_type": "code",
   "execution_count": null,
   "metadata": {},
   "outputs": [
    {
     "data": {
      "text/plain": [
       "np.float64(171.8660049358649)"
      ]
     },
     "execution_count": 52,
     "metadata": {},
     "output_type": "execute_result"
    }
   ],
   "source": [
    "sampling_distribution_mean = np.mean(daily_means)\n",
    "sampling_distribution_mean"
   ]
  },
  {
   "cell_type": "code",
   "execution_count": null,
   "metadata": {},
   "outputs": [
    {
     "data": {
      "text/plain": [
       "np.float64(172.0192602425845)"
      ]
     },
     "execution_count": 53,
     "metadata": {},
     "output_type": "execute_result"
    }
   ],
   "source": [
    "population_mean = np.mean(pop_heights)\n",
    "population_mean"
   ]
  },
  {
   "cell_type": "code",
   "execution_count": 57,
   "metadata": {},
   "outputs": [
    {
     "data": {
      "text/plain": [
       "np.float64(4.990839139566387)"
      ]
     },
     "execution_count": 57,
     "metadata": {},
     "output_type": "execute_result"
    }
   ],
   "source": [
    "population_sd = np.std(pop_heights)\n",
    "population_sd"
   ]
  },
  {
   "cell_type": "code",
   "execution_count": 60,
   "metadata": {},
   "outputs": [
    {
     "data": {
      "text/plain": [
       "np.float64(1.5782419116544761)"
      ]
     },
     "execution_count": 60,
     "metadata": {},
     "output_type": "execute_result"
    }
   ],
   "source": [
    "clt_results = population_sd / np.sqrt(10)\n",
    "clt_results"
   ]
  },
  {
   "cell_type": "markdown",
   "metadata": {},
   "source": [
    "Remember, in this instance, we knew our population parameters, that the average height really is 172 cm and the standard deviation is 5 cm, and we see some of our daily estimates of the population mean were as low as around 168 and some as high as 176."
   ]
  },
  {
   "cell_type": "markdown",
   "metadata": {},
   "source": [
    "__Q10:__ Repeat the above year's worth of samples but for a sample size of 50 (perhaps you had a bigger budget for conducting surveys that year)! Would you expect your distribution of sample means to be wider (more variable) or narrower (more consistent)? Compare your resultant summary statistics to those predicted by the CLT."
   ]
  },
  {
   "cell_type": "markdown",
   "metadata": {},
   "source": [
    "__A:__"
   ]
  },
  {
   "cell_type": "code",
   "execution_count": 64,
   "metadata": {},
   "outputs": [],
   "source": [
    "seed(47)\n",
    "# calculate daily means from the larger sample size here\n",
    "larger_daily_means = []\n",
    "for _ in range(365):\n",
    "    larger_daily_sample = townsfolk_sampler(50)\n",
    "    larger_daily_means.append(np.mean(larger_daily_sample))"
   ]
  },
  {
   "cell_type": "code",
   "execution_count": 65,
   "metadata": {},
   "outputs": [
    {
     "data": {
      "text/plain": [
       "[np.float64(172.7815108576788),\n",
       " np.float64(172.79757492503552),\n",
       " np.float64(172.9396310954854),\n",
       " np.float64(173.3542075784445),\n",
       " np.float64(171.1485580390421),\n",
       " np.float64(171.27023338249884),\n",
       " np.float64(171.57773042798325),\n",
       " np.float64(171.63862815675472),\n",
       " np.float64(171.96210793335894),\n",
       " np.float64(172.66373830647717),\n",
       " np.float64(171.6615364799722),\n",
       " np.float64(171.88936776644812),\n",
       " np.float64(172.4205753053962),\n",
       " np.float64(170.68416081476462),\n",
       " np.float64(171.37644563516122),\n",
       " np.float64(170.89082919619474),\n",
       " np.float64(170.63167276488755),\n",
       " np.float64(171.84458610711957),\n",
       " np.float64(171.7056952443146),\n",
       " np.float64(172.0024093610841),\n",
       " np.float64(172.17533172997156),\n",
       " np.float64(171.66803383747916),\n",
       " np.float64(172.41006409365593),\n",
       " np.float64(172.03517066252826),\n",
       " np.float64(171.84810905850273),\n",
       " np.float64(173.29507939012166),\n",
       " np.float64(172.47483621040422),\n",
       " np.float64(172.24808622542724),\n",
       " np.float64(171.7349369252512),\n",
       " np.float64(171.0791666560747),\n",
       " np.float64(172.0718628174714),\n",
       " np.float64(171.56980924327706),\n",
       " np.float64(171.27134293407755),\n",
       " np.float64(171.10827182706282),\n",
       " np.float64(171.83147861260113),\n",
       " np.float64(172.64522968251705),\n",
       " np.float64(171.34184833161441),\n",
       " np.float64(171.67949207236762),\n",
       " np.float64(171.1656798606149),\n",
       " np.float64(172.50378182453488),\n",
       " np.float64(172.02347109882115),\n",
       " np.float64(171.98370176182962),\n",
       " np.float64(172.25788852831275),\n",
       " np.float64(172.66663634007872),\n",
       " np.float64(172.95172682262927),\n",
       " np.float64(171.6650208749629),\n",
       " np.float64(172.27647892611563),\n",
       " np.float64(172.56057396442372),\n",
       " np.float64(170.63814005426747),\n",
       " np.float64(171.2926075648261),\n",
       " np.float64(172.05628333087486),\n",
       " np.float64(171.63431334474822),\n",
       " np.float64(171.12226067877384),\n",
       " np.float64(172.0354775555923),\n",
       " np.float64(171.66181713847348),\n",
       " np.float64(172.74777937134553),\n",
       " np.float64(172.69973603545813),\n",
       " np.float64(171.7412662455689),\n",
       " np.float64(172.16291010361644),\n",
       " np.float64(172.0680786949149),\n",
       " np.float64(171.47146681665058),\n",
       " np.float64(171.45929053786557),\n",
       " np.float64(171.38381920550947),\n",
       " np.float64(170.74187931219902),\n",
       " np.float64(171.81481490446072),\n",
       " np.float64(171.1811454661782),\n",
       " np.float64(170.65765062531491),\n",
       " np.float64(172.48449628255221),\n",
       " np.float64(172.3626008744472),\n",
       " np.float64(171.3248233563762),\n",
       " np.float64(172.32157836257954),\n",
       " np.float64(171.3575146428834),\n",
       " np.float64(172.01230012182947),\n",
       " np.float64(171.45586797475937),\n",
       " np.float64(172.60832644769337),\n",
       " np.float64(172.90923064763888),\n",
       " np.float64(171.8232960400748),\n",
       " np.float64(172.02353512146678),\n",
       " np.float64(172.69244683833068),\n",
       " np.float64(172.5943354823301),\n",
       " np.float64(171.99559210545397),\n",
       " np.float64(170.88697444561848),\n",
       " np.float64(171.1287369020899),\n",
       " np.float64(173.3049050979804),\n",
       " np.float64(172.69005486736165),\n",
       " np.float64(171.31418515136443),\n",
       " np.float64(171.93620537662483),\n",
       " np.float64(170.84661950770945),\n",
       " np.float64(171.9420815386141),\n",
       " np.float64(172.7083537460361),\n",
       " np.float64(172.1068195680666),\n",
       " np.float64(172.08204873872012),\n",
       " np.float64(172.0857165025829),\n",
       " np.float64(172.28737626070964),\n",
       " np.float64(172.04409392625038),\n",
       " np.float64(171.72714932124234),\n",
       " np.float64(171.6108994453248),\n",
       " np.float64(171.40343323871966),\n",
       " np.float64(172.30606391429757),\n",
       " np.float64(173.14332165770466),\n",
       " np.float64(172.27657327770484),\n",
       " np.float64(171.86275141603662),\n",
       " np.float64(171.50224664098383),\n",
       " np.float64(170.07952858877113),\n",
       " np.float64(172.5189009341571),\n",
       " np.float64(171.22251422041813),\n",
       " np.float64(172.67348326757946),\n",
       " np.float64(171.3293814179121),\n",
       " np.float64(171.00380509699332),\n",
       " np.float64(172.04855887469952),\n",
       " np.float64(172.35372679227385),\n",
       " np.float64(170.67921568704617),\n",
       " np.float64(172.99986959212052),\n",
       " np.float64(172.26329470364595),\n",
       " np.float64(172.0372815194926),\n",
       " np.float64(172.35291480579843),\n",
       " np.float64(172.11903049105516),\n",
       " np.float64(172.0066044678251),\n",
       " np.float64(172.46448231204985),\n",
       " np.float64(172.4842815283576),\n",
       " np.float64(173.0169980361144),\n",
       " np.float64(170.89881785435747),\n",
       " np.float64(171.42254596527545),\n",
       " np.float64(171.37289809789033),\n",
       " np.float64(171.2414752854563),\n",
       " np.float64(172.86603311439686),\n",
       " np.float64(172.39453776258665),\n",
       " np.float64(171.30716428108641),\n",
       " np.float64(171.4019540281487),\n",
       " np.float64(172.76196180965368),\n",
       " np.float64(172.32905324065024),\n",
       " np.float64(172.3554490722028),\n",
       " np.float64(172.5489706719045),\n",
       " np.float64(172.98899631619722),\n",
       " np.float64(171.2300829660369),\n",
       " np.float64(171.7600764723803),\n",
       " np.float64(171.15894560780814),\n",
       " np.float64(172.2999306331501),\n",
       " np.float64(171.83028602099984),\n",
       " np.float64(171.32862238423687),\n",
       " np.float64(170.77936767894244),\n",
       " np.float64(172.36292504264466),\n",
       " np.float64(172.0627351161584),\n",
       " np.float64(172.4572213189606),\n",
       " np.float64(171.47259301389403),\n",
       " np.float64(172.70448049640206),\n",
       " np.float64(170.9033793774536),\n",
       " np.float64(171.4977384620653),\n",
       " np.float64(171.92281752488395),\n",
       " np.float64(172.86154988875325),\n",
       " np.float64(172.8406753273718),\n",
       " np.float64(171.93324378922023),\n",
       " np.float64(171.74883388697694),\n",
       " np.float64(171.98380721046607),\n",
       " np.float64(171.46917463958798),\n",
       " np.float64(172.6146893473156),\n",
       " np.float64(172.91164033636466),\n",
       " np.float64(173.15753287968465),\n",
       " np.float64(172.27759829362836),\n",
       " np.float64(171.6774296769677),\n",
       " np.float64(171.54975020959088),\n",
       " np.float64(171.18582241213085),\n",
       " np.float64(171.66755046501711),\n",
       " np.float64(172.41658296742696),\n",
       " np.float64(173.04107187033074),\n",
       " np.float64(172.82076706195545),\n",
       " np.float64(171.46704286023976),\n",
       " np.float64(172.96233338098062),\n",
       " np.float64(172.12934776128904),\n",
       " np.float64(172.08330964582936),\n",
       " np.float64(171.8006916652453),\n",
       " np.float64(172.34308489334754),\n",
       " np.float64(171.88215305794077),\n",
       " np.float64(171.1559085024102),\n",
       " np.float64(171.85364449530417),\n",
       " np.float64(172.93460329977185),\n",
       " np.float64(173.18000857755993),\n",
       " np.float64(171.63724982728382),\n",
       " np.float64(173.4162760941612),\n",
       " np.float64(171.45107342933244),\n",
       " np.float64(170.76490777374693),\n",
       " np.float64(171.6380925465537),\n",
       " np.float64(171.74032428812748),\n",
       " np.float64(173.80301248510375),\n",
       " np.float64(171.74462296299367),\n",
       " np.float64(173.6235349342996),\n",
       " np.float64(171.2647502513369),\n",
       " np.float64(172.06979893037817),\n",
       " np.float64(172.17030823278597),\n",
       " np.float64(170.44348581706814),\n",
       " np.float64(172.73644707827924),\n",
       " np.float64(172.19090153359073),\n",
       " np.float64(170.6578604779148),\n",
       " np.float64(172.10099771905325),\n",
       " np.float64(171.71531553821683),\n",
       " np.float64(171.97867899672087),\n",
       " np.float64(171.99897228560974),\n",
       " np.float64(172.4364591414134),\n",
       " np.float64(171.1243322935377),\n",
       " np.float64(172.03204756684772),\n",
       " np.float64(171.30211257997559),\n",
       " np.float64(172.00669486226315),\n",
       " np.float64(172.38311872523292),\n",
       " np.float64(171.33568707613824),\n",
       " np.float64(171.33985719376716),\n",
       " np.float64(171.95870433759694),\n",
       " np.float64(171.1496261610421),\n",
       " np.float64(172.5782952059696),\n",
       " np.float64(172.42033433556662),\n",
       " np.float64(171.54928742914416),\n",
       " np.float64(172.5723730532069),\n",
       " np.float64(171.56614037303956),\n",
       " np.float64(171.37921101331048),\n",
       " np.float64(171.52449936229027),\n",
       " np.float64(171.33306899210882),\n",
       " np.float64(171.82625547275902),\n",
       " np.float64(171.44376529985166),\n",
       " np.float64(171.9873267301407),\n",
       " np.float64(172.0094762498349),\n",
       " np.float64(172.81511936308092),\n",
       " np.float64(171.91731067977227),\n",
       " np.float64(172.0977196544409),\n",
       " np.float64(172.32574513267085),\n",
       " np.float64(172.60347671265737),\n",
       " np.float64(172.44053362590222),\n",
       " np.float64(170.7468452174613),\n",
       " np.float64(170.98868067184708),\n",
       " np.float64(171.84561306662016),\n",
       " np.float64(171.8761956044929),\n",
       " np.float64(173.16669451210873),\n",
       " np.float64(171.758230409592),\n",
       " np.float64(172.31744287207303),\n",
       " np.float64(172.26066373967592),\n",
       " np.float64(172.90387119314428),\n",
       " np.float64(172.1542094707465),\n",
       " np.float64(172.41611963294156),\n",
       " np.float64(170.69078115925237),\n",
       " np.float64(172.74649501887535),\n",
       " np.float64(171.07615434950935),\n",
       " np.float64(172.02698832176975),\n",
       " np.float64(172.00554677262645),\n",
       " np.float64(172.74745263250585),\n",
       " np.float64(171.65945615758167),\n",
       " np.float64(172.42931787037676),\n",
       " np.float64(171.31139266156774),\n",
       " np.float64(172.86340638614564),\n",
       " np.float64(172.63046912414976),\n",
       " np.float64(171.90607197945067),\n",
       " np.float64(170.72003646709956),\n",
       " np.float64(172.10949275660838),\n",
       " np.float64(171.45152053467376),\n",
       " np.float64(171.86770717358283),\n",
       " np.float64(171.39371405813117),\n",
       " np.float64(172.14407557961246),\n",
       " np.float64(171.86145845615715),\n",
       " np.float64(171.0643157579227),\n",
       " np.float64(171.11107165580725),\n",
       " np.float64(171.97515142159185),\n",
       " np.float64(172.2507452119935),\n",
       " np.float64(172.1856139091256),\n",
       " np.float64(172.4867254532553),\n",
       " np.float64(172.62914954558713),\n",
       " np.float64(172.8416069041034),\n",
       " np.float64(172.95766914878197),\n",
       " np.float64(173.10461610473183),\n",
       " np.float64(171.41466281567926),\n",
       " np.float64(171.89091850205338),\n",
       " np.float64(171.91765493682541),\n",
       " np.float64(171.3856728570194),\n",
       " np.float64(172.5580115051518),\n",
       " np.float64(170.83751768580808),\n",
       " np.float64(172.60219501605832),\n",
       " np.float64(171.7505797307657),\n",
       " np.float64(171.9617303911309),\n",
       " np.float64(171.84660491414547),\n",
       " np.float64(172.35776791909186),\n",
       " np.float64(171.2458779978962),\n",
       " np.float64(171.93438007088704),\n",
       " np.float64(171.8606276617006),\n",
       " np.float64(171.84556709017835),\n",
       " np.float64(171.44970933561854),\n",
       " np.float64(172.74576860936187),\n",
       " np.float64(170.38777847996414),\n",
       " np.float64(172.3466863540159),\n",
       " np.float64(172.8038464437931),\n",
       " np.float64(171.91877900815456),\n",
       " np.float64(172.66506616836838),\n",
       " np.float64(170.78590101157235),\n",
       " np.float64(172.11850648936783),\n",
       " np.float64(170.75665956609814),\n",
       " np.float64(171.7151020651713),\n",
       " np.float64(172.10742863250215),\n",
       " np.float64(172.51206031029852),\n",
       " np.float64(171.65287206192647),\n",
       " np.float64(172.55011484163367),\n",
       " np.float64(171.80014021314176),\n",
       " np.float64(171.68322902960838),\n",
       " np.float64(171.72240274574912),\n",
       " np.float64(171.58157929787114),\n",
       " np.float64(172.89233455637458),\n",
       " np.float64(171.35548749762108),\n",
       " np.float64(171.21277983252344),\n",
       " np.float64(172.50712890942086),\n",
       " np.float64(170.60810840182512),\n",
       " np.float64(172.58764074576774),\n",
       " np.float64(172.59321378019294),\n",
       " np.float64(172.75315782350623),\n",
       " np.float64(171.78472781834543),\n",
       " np.float64(170.56401239103522),\n",
       " np.float64(172.65025382629744),\n",
       " np.float64(172.50016154070934),\n",
       " np.float64(171.01133751509252),\n",
       " np.float64(171.89707218069572),\n",
       " np.float64(171.39777017939866),\n",
       " np.float64(171.5888706941444),\n",
       " np.float64(172.17453748533066),\n",
       " np.float64(172.5422328160275),\n",
       " np.float64(171.25478419429447),\n",
       " np.float64(171.48147133549224),\n",
       " np.float64(171.46642822745997),\n",
       " np.float64(171.58713991008008),\n",
       " np.float64(172.04420677191985),\n",
       " np.float64(172.82918744818838),\n",
       " np.float64(172.51828644828274),\n",
       " np.float64(172.5579170585349),\n",
       " np.float64(170.41746242201705),\n",
       " np.float64(172.21333956770403),\n",
       " np.float64(170.64348987977087),\n",
       " np.float64(172.4764043893837),\n",
       " np.float64(171.8229891306343),\n",
       " np.float64(170.67173816614144),\n",
       " np.float64(172.6966076913146),\n",
       " np.float64(171.6376245764548),\n",
       " np.float64(172.02274650961598),\n",
       " np.float64(172.59149521166134),\n",
       " np.float64(173.04572889665104),\n",
       " np.float64(171.42114339710554),\n",
       " np.float64(171.9158785872262),\n",
       " np.float64(172.52349847658462),\n",
       " np.float64(171.99752954585546),\n",
       " np.float64(172.6785554217261),\n",
       " np.float64(171.36004753537688),\n",
       " np.float64(171.60437385324246),\n",
       " np.float64(172.2211546793179),\n",
       " np.float64(171.55142175857543),\n",
       " np.float64(171.1090944569839),\n",
       " np.float64(171.0826709592788),\n",
       " np.float64(172.4930814954672),\n",
       " np.float64(171.0924260704737),\n",
       " np.float64(172.17588303663732),\n",
       " np.float64(172.3121000669372),\n",
       " np.float64(171.559746981286),\n",
       " np.float64(172.96717428468912),\n",
       " np.float64(170.9695688866329),\n",
       " np.float64(172.40049192809616),\n",
       " np.float64(172.8644173394355),\n",
       " np.float64(171.11341965338775),\n",
       " np.float64(170.43821023646333),\n",
       " np.float64(171.3745857265041),\n",
       " np.float64(172.38010537944785),\n",
       " np.float64(173.39919328106328),\n",
       " np.float64(172.57927553982918),\n",
       " np.float64(171.7523151509625),\n",
       " np.float64(171.92714893397323),\n",
       " np.float64(172.78806643087367)]"
      ]
     },
     "execution_count": 65,
     "metadata": {},
     "output_type": "execute_result"
    }
   ],
   "source": [
    "larger_daily_means"
   ]
  },
  {
   "cell_type": "code",
   "execution_count": 63,
   "metadata": {},
   "outputs": [
    {
     "data": {
      "image/png": "[encoded data removed]",
      "text/plain": [
       "<Figure size 640x480 with 1 Axes>"
      ]
     },
     "metadata": {},
     "output_type": "display_data"
    }
   ],
   "source": [
    "import numpy as np\n",
    "import matplotlib.pyplot as plt\n",
    "\n",
    "# Plot the sampling distribution of the mean\n",
    "plt.hist(larger_daily_means, bins=10, color='skyblue', edgecolor='black', density=True)\n",
    "plt.title(\"Sampling Distribution of the Mean\")\n",
    "plt.xlabel(\"Sample Mean\")\n",
    "plt.ylabel(\"Frequency (Density)\")\n",
    "plt.axvline(np.mean(larger_daily_means), color='red', linestyle='dashed', label=f\"Mean: {np.mean(larger_daily_means):.2f}\")\n",
    "plt.legend()\n",
    "plt.show()\n"
   ]
  },
  {
   "cell_type": "code",
   "execution_count": 66,
   "metadata": {},
   "outputs": [
    {
     "data": {
      "text/plain": [
       "np.float64(171.94366080916114)"
      ]
     },
     "execution_count": 66,
     "metadata": {},
     "output_type": "execute_result"
    }
   ],
   "source": [
    "largerset_sampling_distribution_mean = np.mean(larger_daily_means)\n",
    "largerset_sampling_distribution_mean"
   ]
  },
  {
   "cell_type": "code",
   "execution_count": 67,
   "metadata": {},
   "outputs": [
    {
     "data": {
      "text/plain": [
       "np.float64(172.0192602425845)"
      ]
     },
     "execution_count": 67,
     "metadata": {},
     "output_type": "execute_result"
    }
   ],
   "source": [
    "population_mean = np.mean(pop_heights)\n",
    "population_mean"
   ]
  },
  {
   "cell_type": "code",
   "execution_count": 68,
   "metadata": {},
   "outputs": [
    {
     "data": {
      "text/plain": [
       "np.float64(4.990839139566387)"
      ]
     },
     "execution_count": 68,
     "metadata": {},
     "output_type": "execute_result"
    }
   ],
   "source": [
    "population_sd = np.std(pop_heights)\n",
    "population_sd"
   ]
  },
  {
   "cell_type": "code",
   "execution_count": 71,
   "metadata": {},
   "outputs": [
    {
     "data": {
      "text/plain": [
       "np.float64(0.7058112398797253)"
      ]
     },
     "execution_count": 71,
     "metadata": {},
     "output_type": "execute_result"
    }
   ],
   "source": [
    "clt_results = population_sd / np.sqrt(50)\n",
    "clt_results"
   ]
  },
  {
   "cell_type": "markdown",
   "metadata": {},
   "source": [
    "What we've seen so far, then, is that we can estimate population parameters from a sample from the population, and that samples have their own distributions. Furthermore, the larger the sample size, the narrower are those sampling distributions."
   ]
  },
  {
   "cell_type": "markdown",
   "metadata": {},
   "source": [
    "### Normally testing time!"
   ]
  },
  {
   "cell_type": "markdown",
   "metadata": {},
   "source": [
    "All of the above is well and good. We've been sampling from a population we know is normally distributed, we've come to understand when to use $n$ and when to use $n-1$ in the denominator to calculate the spread of a distribution, and we've  seen the Central Limit Theorem in action for a sampling distribution. All seems very well behaved in Frequentist land. But, well, why should we really care?"
   ]
  },
  {
   "cell_type": "markdown",
   "metadata": {},
   "source": [
    "Remember, we rarely (if ever) actually know our population parameters but we still have to estimate them somehow. If we want to make inferences to conclusions like \"this observation is unusual\" or \"my population mean has changed\" then we need to have some idea of what the underlying distribution is so we can calculate relevant probabilities. In frequentist inference, we use the formulae above to deduce these population parameters. Take a moment in the next part of this assignment to refresh your understanding of how these probabilities work."
   ]
  },
  {
   "cell_type": "markdown",
   "metadata": {},
   "source": [
    "Recall some basic properties of the standard normal distribution, such as that about 68% of observations are within plus or minus 1 standard deviation of the mean. Check out the precise definition of a normal distribution on p. 394 of *AoS*. \n",
    "\n",
    "__Q11:__ Using this fact, calculate the probability of observing the value 1 or less in a single observation from the standard normal distribution. Hint: you may find it helpful to sketch the standard normal distribution (the familiar bell shape) and mark the number of standard deviations from the mean on the x-axis and shade the regions of the curve that contain certain percentages of the population."
   ]
  },
  {
   "cell_type": "markdown",
   "metadata": {},
   "source": [
    "__A:__"
   ]
  },
  {
   "cell_type": "code",
   "execution_count": 75,
   "metadata": {},
   "outputs": [
    {
     "data": {
      "text/plain": [
       "[<matplotlib.lines.Line2D at 0x215f2010710>]"
      ]
     },
     "execution_count": 75,
     "metadata": {},
     "output_type": "execute_result"
    },
    {
     "data": {
      "image/png": "[encoded data removed]",
      "text/plain": [
       "<Figure size 800x500 with 1 Axes>"
      ]
     },
     "metadata": {},
     "output_type": "display_data"
    }
   ],
   "source": [
    "import numpy as np\n",
    "import matplotlib.pyplot as plt\n",
    "from scipy.stats import norm\n",
    "\n",
    "# Standard Normal Distribution\n",
    "z_values = np.linspace(-3, 3, 1000)\n",
    "pdf = norm.pdf(z_values)\n",
    "\n",
    "# Plot the normal curve\n",
    "plt.figure(figsize=(8, 5))\n",
    "plt.plot(z_values, pdf, color='blue', label=\"Standard Normal Distribution\")"
   ]
  },
  {
   "cell_type": "markdown",
   "metadata": {},
   "source": [
    "Calculating this probability involved calculating the area under the curve from the value of 1 and below. To put it in mathematical terms, we need to *integrate* the probability density function. We could just add together the known areas of chunks (from -Inf to 0 and then 0 to $+\\sigma$ in the example above). One way to do this is to look up tables (literally). Fortunately, scipy has this functionality built in with the cdf() function."
   ]
  },
  {
   "cell_type": "code",
   "execution_count": 76,
   "metadata": {},
   "outputs": [
    {
     "data": {
      "text/plain": [
       "array([-3.        , -2.99399399, -2.98798799, -2.98198198, -2.97597598,\n",
       "       -2.96996997, -2.96396396, -2.95795796, -2.95195195, -2.94594595,\n",
       "       -2.93993994, -2.93393393, -2.92792793, -2.92192192, -2.91591592,\n",
       "       -2.90990991, -2.9039039 , -2.8978979 , -2.89189189, -2.88588589,\n",
       "       -2.87987988, -2.87387387, -2.86786787, -2.86186186, -2.85585586,\n",
       "       -2.84984985, -2.84384384, -2.83783784, -2.83183183, -2.82582583,\n",
       "       -2.81981982, -2.81381381, -2.80780781, -2.8018018 , -2.7957958 ,\n",
       "       -2.78978979, -2.78378378, -2.77777778, -2.77177177, -2.76576577,\n",
       "       -2.75975976, -2.75375375, -2.74774775, -2.74174174, -2.73573574,\n",
       "       -2.72972973, -2.72372372, -2.71771772, -2.71171171, -2.70570571,\n",
       "       -2.6996997 , -2.69369369, -2.68768769, -2.68168168, -2.67567568,\n",
       "       -2.66966967, -2.66366366, -2.65765766, -2.65165165, -2.64564565,\n",
       "       -2.63963964, -2.63363363, -2.62762763, -2.62162162, -2.61561562,\n",
       "       -2.60960961, -2.6036036 , -2.5975976 , -2.59159159, -2.58558559,\n",
       "       -2.57957958, -2.57357357, -2.56756757, -2.56156156, -2.55555556,\n",
       "       -2.54954955, -2.54354354, -2.53753754, -2.53153153, -2.52552553,\n",
       "       -2.51951952, -2.51351351, -2.50750751, -2.5015015 , -2.4954955 ,\n",
       "       -2.48948949, -2.48348348, -2.47747748, -2.47147147, -2.46546547,\n",
       "       -2.45945946, -2.45345345, -2.44744745, -2.44144144, -2.43543544,\n",
       "       -2.42942943, -2.42342342, -2.41741742, -2.41141141, -2.40540541,\n",
       "       -2.3993994 , -2.39339339, -2.38738739, -2.38138138, -2.37537538,\n",
       "       -2.36936937, -2.36336336, -2.35735736, -2.35135135, -2.34534535,\n",
       "       -2.33933934, -2.33333333, -2.32732733, -2.32132132, -2.31531532,\n",
       "       -2.30930931, -2.3033033 , -2.2972973 , -2.29129129, -2.28528529,\n",
       "       -2.27927928, -2.27327327, -2.26726727, -2.26126126, -2.25525526,\n",
       "       -2.24924925, -2.24324324, -2.23723724, -2.23123123, -2.22522523,\n",
       "       -2.21921922, -2.21321321, -2.20720721, -2.2012012 , -2.1951952 ,\n",
       "       -2.18918919, -2.18318318, -2.17717718, -2.17117117, -2.16516517,\n",
       "       -2.15915916, -2.15315315, -2.14714715, -2.14114114, -2.13513514,\n",
       "       -2.12912913, -2.12312312, -2.11711712, -2.11111111, -2.10510511,\n",
       "       -2.0990991 , -2.09309309, -2.08708709, -2.08108108, -2.07507508,\n",
       "       -2.06906907, -2.06306306, -2.05705706, -2.05105105, -2.04504505,\n",
       "       -2.03903904, -2.03303303, -2.02702703, -2.02102102, -2.01501502,\n",
       "       -2.00900901, -2.003003  , -1.996997  , -1.99099099, -1.98498498,\n",
       "       -1.97897898, -1.97297297, -1.96696697, -1.96096096, -1.95495495,\n",
       "       -1.94894895, -1.94294294, -1.93693694, -1.93093093, -1.92492492,\n",
       "       -1.91891892, -1.91291291, -1.90690691, -1.9009009 , -1.89489489,\n",
       "       -1.88888889, -1.88288288, -1.87687688, -1.87087087, -1.86486486,\n",
       "       -1.85885886, -1.85285285, -1.84684685, -1.84084084, -1.83483483,\n",
       "       -1.82882883, -1.82282282, -1.81681682, -1.81081081, -1.8048048 ,\n",
       "       -1.7987988 , -1.79279279, -1.78678679, -1.78078078, -1.77477477,\n",
       "       -1.76876877, -1.76276276, -1.75675676, -1.75075075, -1.74474474,\n",
       "       -1.73873874, -1.73273273, -1.72672673, -1.72072072, -1.71471471,\n",
       "       -1.70870871, -1.7027027 , -1.6966967 , -1.69069069, -1.68468468,\n",
       "       -1.67867868, -1.67267267, -1.66666667, -1.66066066, -1.65465465,\n",
       "       -1.64864865, -1.64264264, -1.63663664, -1.63063063, -1.62462462,\n",
       "       -1.61861862, -1.61261261, -1.60660661, -1.6006006 , -1.59459459,\n",
       "       -1.58858859, -1.58258258, -1.57657658, -1.57057057, -1.56456456,\n",
       "       -1.55855856, -1.55255255, -1.54654655, -1.54054054, -1.53453453,\n",
       "       -1.52852853, -1.52252252, -1.51651652, -1.51051051, -1.5045045 ,\n",
       "       -1.4984985 , -1.49249249, -1.48648649, -1.48048048, -1.47447447,\n",
       "       -1.46846847, -1.46246246, -1.45645646, -1.45045045, -1.44444444,\n",
       "       -1.43843844, -1.43243243, -1.42642643, -1.42042042, -1.41441441,\n",
       "       -1.40840841, -1.4024024 , -1.3963964 , -1.39039039, -1.38438438,\n",
       "       -1.37837838, -1.37237237, -1.36636637, -1.36036036, -1.35435435,\n",
       "       -1.34834835, -1.34234234, -1.33633634, -1.33033033, -1.32432432,\n",
       "       -1.31831832, -1.31231231, -1.30630631, -1.3003003 , -1.29429429,\n",
       "       -1.28828829, -1.28228228, -1.27627628, -1.27027027, -1.26426426,\n",
       "       -1.25825826, -1.25225225, -1.24624625, -1.24024024, -1.23423423,\n",
       "       -1.22822823, -1.22222222, -1.21621622, -1.21021021, -1.2042042 ,\n",
       "       -1.1981982 , -1.19219219, -1.18618619, -1.18018018, -1.17417417,\n",
       "       -1.16816817, -1.16216216, -1.15615616, -1.15015015, -1.14414414,\n",
       "       -1.13813814, -1.13213213, -1.12612613, -1.12012012, -1.11411411,\n",
       "       -1.10810811, -1.1021021 , -1.0960961 , -1.09009009, -1.08408408,\n",
       "       -1.07807808, -1.07207207, -1.06606607, -1.06006006, -1.05405405,\n",
       "       -1.04804805, -1.04204204, -1.03603604, -1.03003003, -1.02402402,\n",
       "       -1.01801802, -1.01201201, -1.00600601, -1.        , -0.99399399,\n",
       "       -0.98798799, -0.98198198, -0.97597598, -0.96996997, -0.96396396,\n",
       "       -0.95795796, -0.95195195, -0.94594595, -0.93993994, -0.93393393,\n",
       "       -0.92792793, -0.92192192, -0.91591592, -0.90990991, -0.9039039 ,\n",
       "       -0.8978979 , -0.89189189, -0.88588589, -0.87987988, -0.87387387,\n",
       "       -0.86786787, -0.86186186, -0.85585586, -0.84984985, -0.84384384,\n",
       "       -0.83783784, -0.83183183, -0.82582583, -0.81981982, -0.81381381,\n",
       "       -0.80780781, -0.8018018 , -0.7957958 , -0.78978979, -0.78378378,\n",
       "       -0.77777778, -0.77177177, -0.76576577, -0.75975976, -0.75375375,\n",
       "       -0.74774775, -0.74174174, -0.73573574, -0.72972973, -0.72372372,\n",
       "       -0.71771772, -0.71171171, -0.70570571, -0.6996997 , -0.69369369,\n",
       "       -0.68768769, -0.68168168, -0.67567568, -0.66966967, -0.66366366,\n",
       "       -0.65765766, -0.65165165, -0.64564565, -0.63963964, -0.63363363,\n",
       "       -0.62762763, -0.62162162, -0.61561562, -0.60960961, -0.6036036 ,\n",
       "       -0.5975976 , -0.59159159, -0.58558559, -0.57957958, -0.57357357,\n",
       "       -0.56756757, -0.56156156, -0.55555556, -0.54954955, -0.54354354,\n",
       "       -0.53753754, -0.53153153, -0.52552553, -0.51951952, -0.51351351,\n",
       "       -0.50750751, -0.5015015 , -0.4954955 , -0.48948949, -0.48348348,\n",
       "       -0.47747748, -0.47147147, -0.46546547, -0.45945946, -0.45345345,\n",
       "       -0.44744745, -0.44144144, -0.43543544, -0.42942943, -0.42342342,\n",
       "       -0.41741742, -0.41141141, -0.40540541, -0.3993994 , -0.39339339,\n",
       "       -0.38738739, -0.38138138, -0.37537538, -0.36936937, -0.36336336,\n",
       "       -0.35735736, -0.35135135, -0.34534535, -0.33933934, -0.33333333,\n",
       "       -0.32732733, -0.32132132, -0.31531532, -0.30930931, -0.3033033 ,\n",
       "       -0.2972973 , -0.29129129, -0.28528529, -0.27927928, -0.27327327,\n",
       "       -0.26726727, -0.26126126, -0.25525526, -0.24924925, -0.24324324,\n",
       "       -0.23723724, -0.23123123, -0.22522523, -0.21921922, -0.21321321,\n",
       "       -0.20720721, -0.2012012 , -0.1951952 , -0.18918919, -0.18318318,\n",
       "       -0.17717718, -0.17117117, -0.16516517, -0.15915916, -0.15315315,\n",
       "       -0.14714715, -0.14114114, -0.13513514, -0.12912913, -0.12312312,\n",
       "       -0.11711712, -0.11111111, -0.10510511, -0.0990991 , -0.09309309,\n",
       "       -0.08708709, -0.08108108, -0.07507508, -0.06906907, -0.06306306,\n",
       "       -0.05705706, -0.05105105, -0.04504505, -0.03903904, -0.03303303,\n",
       "       -0.02702703, -0.02102102, -0.01501502, -0.00900901, -0.003003  ,\n",
       "        0.003003  ,  0.00900901,  0.01501502,  0.02102102,  0.02702703,\n",
       "        0.03303303,  0.03903904,  0.04504505,  0.05105105,  0.05705706,\n",
       "        0.06306306,  0.06906907,  0.07507508,  0.08108108,  0.08708709,\n",
       "        0.09309309,  0.0990991 ,  0.10510511,  0.11111111,  0.11711712,\n",
       "        0.12312312,  0.12912913,  0.13513514,  0.14114114,  0.14714715,\n",
       "        0.15315315,  0.15915916,  0.16516517,  0.17117117,  0.17717718,\n",
       "        0.18318318,  0.18918919,  0.1951952 ,  0.2012012 ,  0.20720721,\n",
       "        0.21321321,  0.21921922,  0.22522523,  0.23123123,  0.23723724,\n",
       "        0.24324324,  0.24924925,  0.25525526,  0.26126126,  0.26726727,\n",
       "        0.27327327,  0.27927928,  0.28528529,  0.29129129,  0.2972973 ,\n",
       "        0.3033033 ,  0.30930931,  0.31531532,  0.32132132,  0.32732733,\n",
       "        0.33333333,  0.33933934,  0.34534535,  0.35135135,  0.35735736,\n",
       "        0.36336336,  0.36936937,  0.37537538,  0.38138138,  0.38738739,\n",
       "        0.39339339,  0.3993994 ,  0.40540541,  0.41141141,  0.41741742,\n",
       "        0.42342342,  0.42942943,  0.43543544,  0.44144144,  0.44744745,\n",
       "        0.45345345,  0.45945946,  0.46546547,  0.47147147,  0.47747748,\n",
       "        0.48348348,  0.48948949,  0.4954955 ,  0.5015015 ,  0.50750751,\n",
       "        0.51351351,  0.51951952,  0.52552553,  0.53153153,  0.53753754,\n",
       "        0.54354354,  0.54954955,  0.55555556,  0.56156156,  0.56756757,\n",
       "        0.57357357,  0.57957958,  0.58558559,  0.59159159,  0.5975976 ,\n",
       "        0.6036036 ,  0.60960961,  0.61561562,  0.62162162,  0.62762763,\n",
       "        0.63363363,  0.63963964,  0.64564565,  0.65165165,  0.65765766,\n",
       "        0.66366366,  0.66966967,  0.67567568,  0.68168168,  0.68768769,\n",
       "        0.69369369,  0.6996997 ,  0.70570571,  0.71171171,  0.71771772,\n",
       "        0.72372372,  0.72972973,  0.73573574,  0.74174174,  0.74774775,\n",
       "        0.75375375,  0.75975976,  0.76576577,  0.77177177,  0.77777778,\n",
       "        0.78378378,  0.78978979,  0.7957958 ,  0.8018018 ,  0.80780781,\n",
       "        0.81381381,  0.81981982,  0.82582583,  0.83183183,  0.83783784,\n",
       "        0.84384384,  0.84984985,  0.85585586,  0.86186186,  0.86786787,\n",
       "        0.87387387,  0.87987988,  0.88588589,  0.89189189,  0.8978979 ,\n",
       "        0.9039039 ,  0.90990991,  0.91591592,  0.92192192,  0.92792793,\n",
       "        0.93393393,  0.93993994,  0.94594595,  0.95195195,  0.95795796,\n",
       "        0.96396396,  0.96996997,  0.97597598,  0.98198198,  0.98798799,\n",
       "        0.99399399,  1.        ,  1.00600601,  1.01201201,  1.01801802,\n",
       "        1.02402402,  1.03003003,  1.03603604,  1.04204204,  1.04804805,\n",
       "        1.05405405,  1.06006006,  1.06606607,  1.07207207,  1.07807808,\n",
       "        1.08408408,  1.09009009,  1.0960961 ,  1.1021021 ,  1.10810811,\n",
       "        1.11411411,  1.12012012,  1.12612613,  1.13213213,  1.13813814,\n",
       "        1.14414414,  1.15015015,  1.15615616,  1.16216216,  1.16816817,\n",
       "        1.17417417,  1.18018018,  1.18618619,  1.19219219,  1.1981982 ,\n",
       "        1.2042042 ,  1.21021021,  1.21621622,  1.22222222,  1.22822823,\n",
       "        1.23423423,  1.24024024,  1.24624625,  1.25225225,  1.25825826,\n",
       "        1.26426426,  1.27027027,  1.27627628,  1.28228228,  1.28828829,\n",
       "        1.29429429,  1.3003003 ,  1.30630631,  1.31231231,  1.31831832,\n",
       "        1.32432432,  1.33033033,  1.33633634,  1.34234234,  1.34834835,\n",
       "        1.35435435,  1.36036036,  1.36636637,  1.37237237,  1.37837838,\n",
       "        1.38438438,  1.39039039,  1.3963964 ,  1.4024024 ,  1.40840841,\n",
       "        1.41441441,  1.42042042,  1.42642643,  1.43243243,  1.43843844,\n",
       "        1.44444444,  1.45045045,  1.45645646,  1.46246246,  1.46846847,\n",
       "        1.47447447,  1.48048048,  1.48648649,  1.49249249,  1.4984985 ,\n",
       "        1.5045045 ,  1.51051051,  1.51651652,  1.52252252,  1.52852853,\n",
       "        1.53453453,  1.54054054,  1.54654655,  1.55255255,  1.55855856,\n",
       "        1.56456456,  1.57057057,  1.57657658,  1.58258258,  1.58858859,\n",
       "        1.59459459,  1.6006006 ,  1.60660661,  1.61261261,  1.61861862,\n",
       "        1.62462462,  1.63063063,  1.63663664,  1.64264264,  1.64864865,\n",
       "        1.65465465,  1.66066066,  1.66666667,  1.67267267,  1.67867868,\n",
       "        1.68468468,  1.69069069,  1.6966967 ,  1.7027027 ,  1.70870871,\n",
       "        1.71471471,  1.72072072,  1.72672673,  1.73273273,  1.73873874,\n",
       "        1.74474474,  1.75075075,  1.75675676,  1.76276276,  1.76876877,\n",
       "        1.77477477,  1.78078078,  1.78678679,  1.79279279,  1.7987988 ,\n",
       "        1.8048048 ,  1.81081081,  1.81681682,  1.82282282,  1.82882883,\n",
       "        1.83483483,  1.84084084,  1.84684685,  1.85285285,  1.85885886,\n",
       "        1.86486486,  1.87087087,  1.87687688,  1.88288288,  1.88888889,\n",
       "        1.89489489,  1.9009009 ,  1.90690691,  1.91291291,  1.91891892,\n",
       "        1.92492492,  1.93093093,  1.93693694,  1.94294294,  1.94894895,\n",
       "        1.95495495,  1.96096096,  1.96696697,  1.97297297,  1.97897898,\n",
       "        1.98498498,  1.99099099,  1.996997  ,  2.003003  ,  2.00900901,\n",
       "        2.01501502,  2.02102102,  2.02702703,  2.03303303,  2.03903904,\n",
       "        2.04504505,  2.05105105,  2.05705706,  2.06306306,  2.06906907,\n",
       "        2.07507508,  2.08108108,  2.08708709,  2.09309309,  2.0990991 ,\n",
       "        2.10510511,  2.11111111,  2.11711712,  2.12312312,  2.12912913,\n",
       "        2.13513514,  2.14114114,  2.14714715,  2.15315315,  2.15915916,\n",
       "        2.16516517,  2.17117117,  2.17717718,  2.18318318,  2.18918919,\n",
       "        2.1951952 ,  2.2012012 ,  2.20720721,  2.21321321,  2.21921922,\n",
       "        2.22522523,  2.23123123,  2.23723724,  2.24324324,  2.24924925,\n",
       "        2.25525526,  2.26126126,  2.26726727,  2.27327327,  2.27927928,\n",
       "        2.28528529,  2.29129129,  2.2972973 ,  2.3033033 ,  2.30930931,\n",
       "        2.31531532,  2.32132132,  2.32732733,  2.33333333,  2.33933934,\n",
       "        2.34534535,  2.35135135,  2.35735736,  2.36336336,  2.36936937,\n",
       "        2.37537538,  2.38138138,  2.38738739,  2.39339339,  2.3993994 ,\n",
       "        2.40540541,  2.41141141,  2.41741742,  2.42342342,  2.42942943,\n",
       "        2.43543544,  2.44144144,  2.44744745,  2.45345345,  2.45945946,\n",
       "        2.46546547,  2.47147147,  2.47747748,  2.48348348,  2.48948949,\n",
       "        2.4954955 ,  2.5015015 ,  2.50750751,  2.51351351,  2.51951952,\n",
       "        2.52552553,  2.53153153,  2.53753754,  2.54354354,  2.54954955,\n",
       "        2.55555556,  2.56156156,  2.56756757,  2.57357357,  2.57957958,\n",
       "        2.58558559,  2.59159159,  2.5975976 ,  2.6036036 ,  2.60960961,\n",
       "        2.61561562,  2.62162162,  2.62762763,  2.63363363,  2.63963964,\n",
       "        2.64564565,  2.65165165,  2.65765766,  2.66366366,  2.66966967,\n",
       "        2.67567568,  2.68168168,  2.68768769,  2.69369369,  2.6996997 ,\n",
       "        2.70570571,  2.71171171,  2.71771772,  2.72372372,  2.72972973,\n",
       "        2.73573574,  2.74174174,  2.74774775,  2.75375375,  2.75975976,\n",
       "        2.76576577,  2.77177177,  2.77777778,  2.78378378,  2.78978979,\n",
       "        2.7957958 ,  2.8018018 ,  2.80780781,  2.81381381,  2.81981982,\n",
       "        2.82582583,  2.83183183,  2.83783784,  2.84384384,  2.84984985,\n",
       "        2.85585586,  2.86186186,  2.86786787,  2.87387387,  2.87987988,\n",
       "        2.88588589,  2.89189189,  2.8978979 ,  2.9039039 ,  2.90990991,\n",
       "        2.91591592,  2.92192192,  2.92792793,  2.93393393,  2.93993994,\n",
       "        2.94594595,  2.95195195,  2.95795796,  2.96396396,  2.96996997,\n",
       "        2.97597598,  2.98198198,  2.98798799,  2.99399399,  3.        ])"
      ]
     },
     "execution_count": 76,
     "metadata": {},
     "output_type": "execute_result"
    }
   ],
   "source": [
    "z_values"
   ]
  },
  {
   "cell_type": "markdown",
   "metadata": {},
   "source": [
    "__Q12:__ Use the cdf() function to answer the question above again and verify you get the same answer."
   ]
  },
  {
   "cell_type": "markdown",
   "metadata": {},
   "source": [
    "__A:__"
   ]
  },
  {
   "cell_type": "code",
   "execution_count": 73,
   "metadata": {},
   "outputs": [
    {
     "name": "stdout",
     "output_type": "stream",
     "text": [
      "P(Z <= 1) = 0.8413\n"
     ]
    }
   ],
   "source": [
    "mean = 0\n",
    "std_dev = 1\n",
    "\n",
    "z_value = 1\n",
    "probability = norm.cdf(z_value, loc=mean, scale=std_dev)\n",
    "print(f\"P(Z <= {z_value}) = {probability:.4f}\")"
   ]
  },
  {
   "cell_type": "markdown",
   "metadata": {},
   "source": [
    "__Q13:__ Using our knowledge of the population parameters for our townsfolks' heights, what is the probability of selecting one person at random and their height being 177 cm or less? Calculate this using both of the approaches given above."
   ]
  },
  {
   "cell_type": "markdown",
   "metadata": {},
   "source": [
    "__A:__"
   ]
  },
  {
   "cell_type": "code",
   "execution_count": 79,
   "metadata": {},
   "outputs": [
    {
     "name": "stdout",
     "output_type": "stream",
     "text": [
      "Probability using normal distribution: 0.8413\n",
      "Probability using PDF: 0.8413\n"
     ]
    }
   ],
   "source": [
    "population_mean = 172\n",
    "population_sd = 5\n",
    "\n",
    "# 1. Normal Distribution Approach (using CDF directly)\n",
    "probability_normal = norm.cdf(177, population_mean, population_sd)\n",
    "print(f\"Probability using normal distribution: {probability_normal:.4f}\")\n",
    "\n",
    "# 2. PDF\n",
    "probability_normal_pdf = norm.pdf(177, population_mean, population_sd)\n",
    "print(f\"Probability using PDF: {probability_normal:.4f}\")"
   ]
  },
  {
   "cell_type": "markdown",
   "metadata": {},
   "source": [
    "__Q14:__ Turning this question around — suppose we randomly pick one person and measure their height and find they are 2.00 m tall. How surprised should we be at this result, given what we know about the population distribution? In other words, how likely would it be to obtain a value at least as extreme as this? Express this as a probability. "
   ]
  },
  {
   "cell_type": "markdown",
   "metadata": {},
   "source": [
    "__A:__"
   ]
  },
  {
   "cell_type": "code",
   "execution_count": 80,
   "metadata": {},
   "outputs": [
    {
     "data": {
      "text/plain": [
       "5.6"
      ]
     },
     "execution_count": 80,
     "metadata": {},
     "output_type": "execute_result"
    }
   ],
   "source": [
    "# Calculate z-score for 200 cm\n",
    "z_score = (200 - population_mean) / population_sd\n",
    "z_score"
   ]
  },
  {
   "cell_type": "code",
   "execution_count": 81,
   "metadata": {},
   "outputs": [
    {
     "name": "stdout",
     "output_type": "stream",
     "text": [
      "Probability of observing a height of 200 cm or more: 0.0000000107\n"
     ]
    }
   ],
   "source": [
    "# Calculate the probability of observing at least 200 cm\n",
    "probability_extreme = 1 - norm.cdf(z_score)\n",
    "print(f\"Probability of observing a height of 200 cm or more: {probability_extreme:.10f}\")"
   ]
  },
  {
   "cell_type": "markdown",
   "metadata": {},
   "source": [
    "What we've just done is calculate the ***p-value*** of the observation of someone 2.00m tall (review *p*-values if you need to on p. 399 of *AoS*). We could calculate this probability by virtue of knowing the population parameters. We were then able to use the known properties of the relevant normal distribution to calculate the probability of observing a value at least as extreme as our test value."
   ]
  },
  {
   "cell_type": "markdown",
   "metadata": {},
   "source": [
    "We're about to come to a pinch, though. We've said a couple of times that we rarely, if ever, know the true population parameters; we have to estimate them from our sample and we cannot even begin to estimate the standard deviation from a single observation. \n",
    "\n",
    "This is very true and usually we have sample sizes larger than one. This means we can calculate the mean of the sample as our best estimate of the population mean and the standard deviation as our best estimate of the population standard deviation. \n",
    "\n",
    "In other words, we are now coming to deal with the sampling distributions we mentioned above as we are generally concerned with the properties of the sample means we obtain. \n",
    "\n",
    "Above, we highlighted one result from the CLT, whereby the sampling distribution (of the mean) becomes narrower and narrower with the square root of the sample size. We remind ourselves that another result from the CLT is that _even if the underlying population distribution is not normal, the sampling distribution will tend to become normal with sufficiently large sample size_. (**Check out p. 199 of AoS if you need to revise this**). This is the key driver for us 'requiring' a certain sample size, for example you may frequently see a minimum sample size of 30 stated in many places. In reality this is simply a rule of thumb; if the underlying distribution is approximately normal then your sampling distribution will already be pretty normal, but if the underlying distribution is heavily skewed then you'd want to increase your sample size."
   ]
  },
  {
   "cell_type": "markdown",
   "metadata": {},
   "source": [
    "__Q15:__ Let's now start from the position of knowing nothing about the heights of people in our town.\n",
    "* Use the random seed of 47, to randomly sample the heights of 50 townsfolk\n",
    "* Estimate the population mean using np.mean\n",
    "* Estimate the population standard deviation using np.std (remember which denominator to use!)\n",
    "* Calculate the (95%) [margin of error](https://www.statisticshowto.datasciencecentral.com/probability-and-statistics/hypothesis-testing/margin-of-error/#WhatMofE) (use the exact critial z value to 2 decimal places - [look this up](https://www.statisticshowto.datasciencecentral.com/probability-and-statistics/find-critical-values/) or use norm.ppf()) Recall that the ***margin of error*** is mentioned on p. 189 of the *AoS* and discussed in depth in that chapter). \n",
    "* Calculate the 95% Confidence Interval of the mean (***confidence intervals*** are defined on p. 385 of *AoS*) \n",
    "* Does this interval include the true population mean?"
   ]
  },
  {
   "cell_type": "markdown",
   "metadata": {},
   "source": [
    "__A:__ Yes, it includes the true population mean which is 172."
   ]
  },
  {
   "cell_type": "code",
   "execution_count": 84,
   "metadata": {},
   "outputs": [],
   "source": [
    "seed(47)\n",
    "# take your sample now\n",
    "sample_Q15 = townsfolk_sampler(50)"
   ]
  },
  {
   "cell_type": "code",
   "execution_count": 105,
   "metadata": {},
   "outputs": [
    {
     "data": {
      "text/plain": [
       "array([179.04949004, 168.54189384, 181.71974048, 176.56433733,\n",
       "       165.91968052, 170.65629646, 179.37664509, 166.40103988,\n",
       "       177.15105034, 169.41097044, 169.96353026, 175.15960886,\n",
       "       177.08203296, 175.57499516, 174.54290109, 172.47967099,\n",
       "       168.61822612, 174.73274884, 170.88926244, 178.27468993,\n",
       "       171.52874629, 173.48970606, 172.0752456 , 172.29707499,\n",
       "       171.58202648, 169.84480352, 178.67104246, 174.28346436,\n",
       "       174.29645483, 167.42082214, 168.57939161, 169.54392578,\n",
       "       167.58621293, 176.8657094 , 164.25755366, 177.38929575,\n",
       "       171.97964488, 164.94136054, 177.90675289, 175.2758845 ,\n",
       "       176.64336688, 169.68013675, 175.41851966, 171.9408919 ,\n",
       "       179.69843965, 169.93651872, 169.3320981 , 172.17010876,\n",
       "       171.18783138, 171.14370134])"
      ]
     },
     "execution_count": 105,
     "metadata": {},
     "output_type": "execute_result"
    }
   ],
   "source": [
    "sample_Q15"
   ]
  },
  {
   "cell_type": "code",
   "execution_count": 86,
   "metadata": {},
   "outputs": [],
   "source": [
    "sample_mean_Q15 = np.mean(sample_Q15)"
   ]
  },
  {
   "cell_type": "code",
   "execution_count": 106,
   "metadata": {},
   "outputs": [
    {
     "data": {
      "text/plain": [
       "np.float64(172.7815108576788)"
      ]
     },
     "execution_count": 106,
     "metadata": {},
     "output_type": "execute_result"
    }
   ],
   "source": [
    "sample_mean_Q15"
   ]
  },
  {
   "cell_type": "code",
   "execution_count": 107,
   "metadata": {},
   "outputs": [],
   "source": [
    "sample_std_Q15 = np.std(sample_Q15)"
   ]
  },
  {
   "cell_type": "code",
   "execution_count": 108,
   "metadata": {},
   "outputs": [
    {
     "data": {
      "text/plain": [
       "np.float64(4.153258225264712)"
      ]
     },
     "execution_count": 108,
     "metadata": {},
     "output_type": "execute_result"
    }
   ],
   "source": [
    "sample_std_Q15"
   ]
  },
  {
   "cell_type": "code",
   "execution_count": 109,
   "metadata": {},
   "outputs": [],
   "source": [
    "# Critical z-value for a 95% confidence interval (from standard normal distribution)\n",
    "z_critical = norm.ppf(0.975)  # 97.5 percentile for 95% confidence"
   ]
  },
  {
   "cell_type": "code",
   "execution_count": 110,
   "metadata": {},
   "outputs": [
    {
     "data": {
      "text/plain": [
       "np.float64(1.959963984540054)"
      ]
     },
     "execution_count": 110,
     "metadata": {},
     "output_type": "execute_result"
    }
   ],
   "source": [
    "z_critical"
   ]
  },
  {
   "cell_type": "code",
   "execution_count": 111,
   "metadata": {},
   "outputs": [],
   "source": [
    "# Calculate margin of error\n",
    "margin_of_error = z_critical * (sample_std_Q15 / np.sqrt(len(sample_Q15)))"
   ]
  },
  {
   "cell_type": "code",
   "execution_count": 116,
   "metadata": {},
   "outputs": [],
   "source": [
    "margin_of_error_rounded = round(margin_of_error, 2)"
   ]
  },
  {
   "cell_type": "code",
   "execution_count": 117,
   "metadata": {},
   "outputs": [
    {
     "data": {
      "text/plain": [
       "np.float64(1.15)"
      ]
     },
     "execution_count": 117,
     "metadata": {},
     "output_type": "execute_result"
    }
   ],
   "source": [
    "margin_of_error_rounded"
   ]
  },
  {
   "cell_type": "code",
   "execution_count": 118,
   "metadata": {},
   "outputs": [],
   "source": [
    "# Calculate the 95% confidence interval for the mean\n",
    "confidence_interval = (sample_mean_Q15 - margin_of_error_rounded, sample_mean_Q15 + margin_of_error_rounded)"
   ]
  },
  {
   "cell_type": "code",
   "execution_count": 119,
   "metadata": {},
   "outputs": [
    {
     "data": {
      "text/plain": [
       "(np.float64(171.6315108576788), np.float64(173.9315108576788))"
      ]
     },
     "execution_count": 119,
     "metadata": {},
     "output_type": "execute_result"
    }
   ],
   "source": [
    "confidence_interval"
   ]
  },
  {
   "cell_type": "markdown",
   "metadata": {},
   "source": [
    "__Q16:__ Above, we calculated the confidence interval using the critical z value. What is the problem with this? What requirement, or requirements, are we (strictly) failing?"
   ]
  },
  {
   "cell_type": "markdown",
   "metadata": {},
   "source": [
    "__A:__ It can be used only when the population standard deviation is known. The sampling should be large to calculate the standard deviation. We have to calculate the standard deviation from the small sample."
   ]
  },
  {
   "cell_type": "markdown",
   "metadata": {},
   "source": [
    "__Q17:__ Calculate the 95% confidence interval for the mean using the _t_ distribution. Is this wider or narrower than that based on the normal distribution above? If you're unsure, you may find this [resource](https://www.statisticshowto.datasciencecentral.com/probability-and-statistics/confidence-interval/) useful. For calculating the critical value, remember how you could calculate this for the normal distribution using norm.ppf()."
   ]
  },
  {
   "cell_type": "markdown",
   "metadata": {},
   "source": [
    "__A:__"
   ]
  },
  {
   "cell_type": "code",
   "execution_count": 124,
   "metadata": {},
   "outputs": [],
   "source": [
    "sample_size = 50\n",
    "\n",
    "t_critical = t.ppf(0.975, df=sample_size-1)  # 97.5 percentile for 95% confidence\n",
    "\n",
    "# Calculate margin of error using the t-distribution\n",
    "margin_of_error_t = t_critical * (sample_std / np.sqrt(sample_size))\n",
    "margin_of_error_t_rounded = round(margin_of_error_t, 2)\n",
    "\n",
    "# Calculate the 95% confidence interval for the mean using the t-distribution\n",
    "confidence_interval_t = (sample_mean_Q15 - margin_of_error_t_rounded, sample_mean_Q15 + margin_of_error_t_rounded)\n"
   ]
  },
  {
   "cell_type": "code",
   "execution_count": 125,
   "metadata": {},
   "outputs": [
    {
     "data": {
      "text/plain": [
       "(np.float64(172.5115108576788), np.float64(173.0515108576788))"
      ]
     },
     "execution_count": 125,
     "metadata": {},
     "output_type": "execute_result"
    }
   ],
   "source": [
    "confidence_interval_t"
   ]
  },
  {
   "cell_type": "markdown",
   "metadata": {},
   "source": [
    "This is slightly wider than the previous confidence interval. This reflects the greater uncertainty given that we are estimating population parameters from a sample."
   ]
  },
  {
   "cell_type": "markdown",
   "metadata": {},
   "source": [
    "## 4. Learning outcomes"
   ]
  },
  {
   "cell_type": "markdown",
   "metadata": {},
   "source": [
    "Having completed this project notebook, you now have hands-on experience:\n",
    "* sampling and calculating probabilities from a normal distribution\n",
    "* identifying the correct way to estimate the standard deviation of a population (the population parameter) from a sample\n",
    "* with sampling distribution and now know how the Central Limit Theorem applies\n",
    "* with how to calculate critical values and confidence intervals"
   ]
  },
  {
   "cell_type": "code",
   "execution_count": null,
   "metadata": {},
   "outputs": [],
   "source": []
  }
 ],
 "metadata": {
  "kernelspec": {
   "display_name": "Python 3",
   "language": "python",
   "name": "python3"
  },
  "language_info": {
   "codemirror_mode": {
    "name": "ipython",
    "version": 3
   },
   "file_extension": ".py",
   "mimetype": "text/x-python",
   "name": "python",
   "nbconvert_exporter": "python",
   "pygments_lexer": "ipython3",
   "version": "3.11.9"
  }
 },
 "nbformat": 4,
 "nbformat_minor": 2
}
